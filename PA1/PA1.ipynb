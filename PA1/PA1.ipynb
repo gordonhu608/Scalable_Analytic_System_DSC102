{
 "cells": [
  {
   "cell_type": "code",
   "execution_count": 1,
   "id": "5c4f1c8e",
   "metadata": {},
   "outputs": [
    {
     "name": "stderr",
     "output_type": "stream",
     "text": [
      "/home/ubuntu/dask_env/lib/python3.6/site-packages/dask/dataframe/utils.py:14: FutureWarning: pandas.util.testing is deprecated. Use the functions in the public API at pandas.testing instead.\n",
      "  import pandas.util.testing as tm\n"
     ]
    }
   ],
   "source": [
    "from cProfile import run\n",
    "from dask.distributed import Client, LocalCluster\n",
    "import time\n",
    "import json\n",
    "\n",
    "from dask.distributed import Client\n",
    "import numpy as np\n",
    "import dask.dataframe as dd"
   ]
  },
  {
   "cell_type": "code",
   "execution_count": 2,
   "id": "75d3df38",
   "metadata": {},
   "outputs": [
    {
     "data": {
      "text/html": [
       "<div>\n",
       "<style scoped>\n",
       "    .dataframe tbody tr th:only-of-type {\n",
       "        vertical-align: middle;\n",
       "    }\n",
       "\n",
       "    .dataframe tbody tr th {\n",
       "        vertical-align: top;\n",
       "    }\n",
       "\n",
       "    .dataframe thead th {\n",
       "        text-align: right;\n",
       "    }\n",
       "</style>\n",
       "<table border=\"1\" class=\"dataframe\">\n",
       "  <thead>\n",
       "    <tr style=\"text-align: right;\">\n",
       "      <th></th>\n",
       "      <th>reviewerID</th>\n",
       "      <th>asin</th>\n",
       "      <th>reviewerName</th>\n",
       "      <th>helpful</th>\n",
       "      <th>reviewText</th>\n",
       "      <th>overall</th>\n",
       "      <th>summary</th>\n",
       "      <th>unixReviewTime</th>\n",
       "      <th>reviewTime</th>\n",
       "    </tr>\n",
       "  </thead>\n",
       "  <tbody>\n",
       "    <tr>\n",
       "      <th>0</th>\n",
       "      <td>A2T0RJ91B0PQ03</td>\n",
       "      <td>B0016CRVLW</td>\n",
       "      <td>Gerald DeWitt</td>\n",
       "      <td>[0, 0]</td>\n",
       "      <td>Beware!  This is NOT the original single versi...</td>\n",
       "      <td>1.0</td>\n",
       "      <td>Poor Quality Alternate Take</td>\n",
       "      <td>1.400630e+09</td>\n",
       "      <td>05 21, 2014</td>\n",
       "    </tr>\n",
       "    <tr>\n",
       "      <th>1</th>\n",
       "      <td>A3TYW0XA8HSGWB</td>\n",
       "      <td>B00EKR5S0Q</td>\n",
       "      <td>Linda E. Larson</td>\n",
       "      <td>[0, 0]</td>\n",
       "      <td>This is my new most favorite k-cup coffee. I c...</td>\n",
       "      <td>5.0</td>\n",
       "      <td>Vanilla Starbucks K-cups</td>\n",
       "      <td>1.398557e+09</td>\n",
       "      <td>04 27, 2014</td>\n",
       "    </tr>\n",
       "    <tr>\n",
       "      <th>2</th>\n",
       "      <td>A2CME0TQU2IVVB</td>\n",
       "      <td>B001AUPJVO</td>\n",
       "      <td>L5Momma</td>\n",
       "      <td>[1, 1]</td>\n",
       "      <td>This headset is great!  It worked in our 2007 ...</td>\n",
       "      <td>5.0</td>\n",
       "      <td>Awesome!</td>\n",
       "      <td>1.355875e+09</td>\n",
       "      <td>12 19, 2012</td>\n",
       "    </tr>\n",
       "    <tr>\n",
       "      <th>3</th>\n",
       "      <td>A2E5IDLX7R388S</td>\n",
       "      <td>B000055Y57</td>\n",
       "      <td>Jeff Andersen</td>\n",
       "      <td>[0, 0]</td>\n",
       "      <td>Scofield is one of my favorite musicians and i...</td>\n",
       "      <td>5.0</td>\n",
       "      <td>Straight ahead Jazz with the Scofield twist</td>\n",
       "      <td>1.402358e+09</td>\n",
       "      <td>06 10, 2014</td>\n",
       "    </tr>\n",
       "    <tr>\n",
       "      <th>4</th>\n",
       "      <td>A3CIEMYUGV6ZMR</td>\n",
       "      <td>0545265355</td>\n",
       "      <td>Adroit</td>\n",
       "      <td>[0, 0]</td>\n",
       "      <td>Wonderful book! I cried, well teared up at a f...</td>\n",
       "      <td>5.0</td>\n",
       "      <td>Greatest Book Ever!!!</td>\n",
       "      <td>1.334102e+09</td>\n",
       "      <td>04 11, 2012</td>\n",
       "    </tr>\n",
       "  </tbody>\n",
       "</table>\n",
       "</div>"
      ],
      "text/plain": [
       "       reviewerID        asin     reviewerName helpful  \\\n",
       "0  A2T0RJ91B0PQ03  B0016CRVLW    Gerald DeWitt  [0, 0]   \n",
       "1  A3TYW0XA8HSGWB  B00EKR5S0Q  Linda E. Larson  [0, 0]   \n",
       "2  A2CME0TQU2IVVB  B001AUPJVO          L5Momma  [1, 1]   \n",
       "3  A2E5IDLX7R388S  B000055Y57    Jeff Andersen  [0, 0]   \n",
       "4  A3CIEMYUGV6ZMR  0545265355           Adroit  [0, 0]   \n",
       "\n",
       "                                          reviewText  overall  \\\n",
       "0  Beware!  This is NOT the original single versi...      1.0   \n",
       "1  This is my new most favorite k-cup coffee. I c...      5.0   \n",
       "2  This headset is great!  It worked in our 2007 ...      5.0   \n",
       "3  Scofield is one of my favorite musicians and i...      5.0   \n",
       "4  Wonderful book! I cried, well teared up at a f...      5.0   \n",
       "\n",
       "                                       summary  unixReviewTime   reviewTime  \n",
       "0                  Poor Quality Alternate Take    1.400630e+09  05 21, 2014  \n",
       "1                     Vanilla Starbucks K-cups    1.398557e+09  04 27, 2014  \n",
       "2                                     Awesome!    1.355875e+09  12 19, 2012  \n",
       "3  Straight ahead Jazz with the Scofield twist    1.402358e+09  06 10, 2014  \n",
       "4                        Greatest Book Ever!!!    1.334102e+09  04 11, 2012  "
      ]
     },
     "execution_count": 2,
     "metadata": {},
     "output_type": "execute_result"
    }
   ],
   "source": [
    "user_reviews_csv = dd.read_csv('~/data/user_reviews_Release.csv', converters={'helpful': lambda x: eval(x)})\n",
    "\n",
    "user_reviews_csv.head()"
   ]
  },
  {
   "cell_type": "code",
   "execution_count": 3,
   "id": "5c000a8b",
   "metadata": {},
   "outputs": [
    {
     "data": {
      "text/html": [
       "<div>\n",
       "<style scoped>\n",
       "    .dataframe tbody tr th:only-of-type {\n",
       "        vertical-align: middle;\n",
       "    }\n",
       "\n",
       "    .dataframe tbody tr th {\n",
       "        vertical-align: top;\n",
       "    }\n",
       "\n",
       "    .dataframe thead th {\n",
       "        text-align: right;\n",
       "    }\n",
       "</style>\n",
       "<table border=\"1\" class=\"dataframe\">\n",
       "  <thead>\n",
       "    <tr style=\"text-align: right;\">\n",
       "      <th></th>\n",
       "      <th>asin</th>\n",
       "      <th>salesRank</th>\n",
       "      <th>imUrl</th>\n",
       "      <th>categories</th>\n",
       "      <th>title</th>\n",
       "      <th>description</th>\n",
       "      <th>price</th>\n",
       "      <th>related</th>\n",
       "      <th>brand</th>\n",
       "    </tr>\n",
       "  </thead>\n",
       "  <tbody>\n",
       "    <tr>\n",
       "      <th>0</th>\n",
       "      <td>0001048791</td>\n",
       "      <td>{'Books': 6334800}</td>\n",
       "      <td>http://ecx.images-amazon.com/images/I/51MKP0T4...</td>\n",
       "      <td>[['Books']]</td>\n",
       "      <td>The Crucible: Performed by Stuart Pankin, Jero...</td>\n",
       "      <td>NaN</td>\n",
       "      <td>NaN</td>\n",
       "      <td>NaN</td>\n",
       "      <td>NaN</td>\n",
       "    </tr>\n",
       "    <tr>\n",
       "      <th>1</th>\n",
       "      <td>0000143561</td>\n",
       "      <td>{'Movies &amp; TV': 376041}</td>\n",
       "      <td>http://g-ecx.images-amazon.com/images/G/01/x-s...</td>\n",
       "      <td>[['Movies &amp; TV', 'Movies']]</td>\n",
       "      <td>Everyday Italian (with Giada de Laurentiis), V...</td>\n",
       "      <td>3Pack DVD set - Italian Classics, Parties and ...</td>\n",
       "      <td>12.99</td>\n",
       "      <td>{'also_viewed': ['B0036FO6SI', 'B000KL8ODE', '...</td>\n",
       "      <td>NaN</td>\n",
       "    </tr>\n",
       "    <tr>\n",
       "      <th>2</th>\n",
       "      <td>0000037214</td>\n",
       "      <td>{'Clothing': 1233557}</td>\n",
       "      <td>http://ecx.images-amazon.com/images/I/31mCncNu...</td>\n",
       "      <td>[['Clothing, Shoes &amp; Jewelry', 'Girls'], ['Clo...</td>\n",
       "      <td>Purple Sequin Tiny Dancer Tutu Ballet Dance Fa...</td>\n",
       "      <td>NaN</td>\n",
       "      <td>6.99</td>\n",
       "      <td>{'also_viewed': ['B00JO8II76', 'B00DGN4R1Q', '...</td>\n",
       "      <td>Big Dreams</td>\n",
       "    </tr>\n",
       "    <tr>\n",
       "      <th>3</th>\n",
       "      <td>0000032069</td>\n",
       "      <td>NaN</td>\n",
       "      <td>http://ecx.images-amazon.com/images/I/51EzU6qu...</td>\n",
       "      <td>[['Sports &amp; Outdoors', 'Other Sports', 'Dance'...</td>\n",
       "      <td>Adult Ballet Tutu Cheetah Pink</td>\n",
       "      <td>NaN</td>\n",
       "      <td>7.89</td>\n",
       "      <td>{'also_bought': ['0000032050', 'B00D0DJAEG', '...</td>\n",
       "      <td>BubuBibi</td>\n",
       "    </tr>\n",
       "    <tr>\n",
       "      <th>4</th>\n",
       "      <td>0000031909</td>\n",
       "      <td>{'Toys &amp; Games': 201847}</td>\n",
       "      <td>http://ecx.images-amazon.com/images/I/41xBoP0F...</td>\n",
       "      <td>[['Sports &amp; Outdoors', 'Other Sports', 'Dance']]</td>\n",
       "      <td>Girls Ballet Tutu Neon Pink</td>\n",
       "      <td>High quality 3 layer ballet tutu. 12 inches in...</td>\n",
       "      <td>7.00</td>\n",
       "      <td>{'also_bought': ['B002BZX8Z6', 'B00JHONN1S', '...</td>\n",
       "      <td>Unknown</td>\n",
       "    </tr>\n",
       "  </tbody>\n",
       "</table>\n",
       "</div>"
      ],
      "text/plain": [
       "         asin                 salesRank  \\\n",
       "0  0001048791        {'Books': 6334800}   \n",
       "1  0000143561   {'Movies & TV': 376041}   \n",
       "2  0000037214     {'Clothing': 1233557}   \n",
       "3  0000032069                       NaN   \n",
       "4  0000031909  {'Toys & Games': 201847}   \n",
       "\n",
       "                                               imUrl  \\\n",
       "0  http://ecx.images-amazon.com/images/I/51MKP0T4...   \n",
       "1  http://g-ecx.images-amazon.com/images/G/01/x-s...   \n",
       "2  http://ecx.images-amazon.com/images/I/31mCncNu...   \n",
       "3  http://ecx.images-amazon.com/images/I/51EzU6qu...   \n",
       "4  http://ecx.images-amazon.com/images/I/41xBoP0F...   \n",
       "\n",
       "                                          categories  \\\n",
       "0                                        [['Books']]   \n",
       "1                        [['Movies & TV', 'Movies']]   \n",
       "2  [['Clothing, Shoes & Jewelry', 'Girls'], ['Clo...   \n",
       "3  [['Sports & Outdoors', 'Other Sports', 'Dance'...   \n",
       "4   [['Sports & Outdoors', 'Other Sports', 'Dance']]   \n",
       "\n",
       "                                               title  \\\n",
       "0  The Crucible: Performed by Stuart Pankin, Jero...   \n",
       "1  Everyday Italian (with Giada de Laurentiis), V...   \n",
       "2  Purple Sequin Tiny Dancer Tutu Ballet Dance Fa...   \n",
       "3                     Adult Ballet Tutu Cheetah Pink   \n",
       "4                        Girls Ballet Tutu Neon Pink   \n",
       "\n",
       "                                         description  price  \\\n",
       "0                                                NaN    NaN   \n",
       "1  3Pack DVD set - Italian Classics, Parties and ...  12.99   \n",
       "2                                                NaN   6.99   \n",
       "3                                                NaN   7.89   \n",
       "4  High quality 3 layer ballet tutu. 12 inches in...   7.00   \n",
       "\n",
       "                                             related       brand  \n",
       "0                                                NaN         NaN  \n",
       "1  {'also_viewed': ['B0036FO6SI', 'B000KL8ODE', '...         NaN  \n",
       "2  {'also_viewed': ['B00JO8II76', 'B00DGN4R1Q', '...  Big Dreams  \n",
       "3  {'also_bought': ['0000032050', 'B00D0DJAEG', '...    BubuBibi  \n",
       "4  {'also_bought': ['B002BZX8Z6', 'B00JHONN1S', '...     Unknown  "
      ]
     },
     "execution_count": 3,
     "metadata": {},
     "output_type": "execute_result"
    }
   ],
   "source": [
    "dtypes = {\n",
    "    'asin': str,\n",
    "    'salesRank': object,\n",
    "    'imUrl': str,\n",
    "    'categories': object,\n",
    "    'title': str,\n",
    "    'description': str,\n",
    "    'price': float,\n",
    "    'related': object,\n",
    "    'brand': str\n",
    "    }\n",
    "\n",
    "products_csv = dd.read_csv('~/data/products_Release.csv', dtype=dtypes)\n",
    "\n",
    "products_csv.head()"
   ]
  },
  {
   "cell_type": "code",
   "execution_count": 8,
   "id": "f93b5220",
   "metadata": {},
   "outputs": [],
   "source": [
    "# read data \n",
    "# products_csv = dd.read_csv(products_csv)\n",
    "# user_reviews_csv = dd.read_csv(user_reviews_csv)\n",
    "combined = products_csv[['asin', 'price']].merge(user_reviews_csv[['asin', 'overall']], on=['asin'])"
   ]
  },
  {
   "cell_type": "code",
   "execution_count": 4,
   "id": "a5721588",
   "metadata": {},
   "outputs": [],
   "source": [
    "q1_reviews = (user_reviews_csv.isna().mean() * 100).compute()\n",
    "q1_products = (products_csv.isna().mean() * 100).compute()"
   ]
  },
  {
   "cell_type": "code",
   "execution_count": 5,
   "id": "eccd8470",
   "metadata": {
    "scrolled": true
   },
   "outputs": [
    {
     "data": {
      "text/plain": [
       "reviewerID        0.000000\n",
       "asin              0.000000\n",
       "reviewerName      3.292575\n",
       "helpful           0.000000\n",
       "reviewText        0.021570\n",
       "overall           0.000000\n",
       "summary           0.001085\n",
       "unixReviewTime    0.000010\n",
       "reviewTime        0.000000\n",
       "dtype: float64"
      ]
     },
     "execution_count": 5,
     "metadata": {},
     "output_type": "execute_result"
    }
   ],
   "source": [
    "q1_reviews"
   ]
  },
  {
   "cell_type": "code",
   "execution_count": 6,
   "id": "c76c60d8",
   "metadata": {},
   "outputs": [
    {
     "data": {
      "text/plain": [
       "asin            0.000000\n",
       "salesRank      26.015663\n",
       "imUrl           1.795239\n",
       "categories      0.798038\n",
       "title          15.192672\n",
       "description    41.717847\n",
       "price          35.703404\n",
       "related        29.039236\n",
       "brand          81.684125\n",
       "dtype: float64"
      ]
     },
     "execution_count": 6,
     "metadata": {},
     "output_type": "execute_result"
    }
   ],
   "source": [
    "q1_products"
   ]
  },
  {
   "cell_type": "code",
   "execution_count": 5,
   "id": "57ce9be4",
   "metadata": {},
   "outputs": [],
   "source": [
    "# q1\n",
    "reviews_shape = user_reviews_csv.shape\n",
    "products_shape = products_csv.shape\n",
    "q1_reviews = 100*(reviews_shape[0] - user_reviews_csv.count()) / reviews_shape[0]\n",
    "q1_products = 100*(products_shape[0] - products_csv.count()) / products_shape[0]"
   ]
  },
  {
   "cell_type": "code",
   "execution_count": null,
   "id": "e80bf177",
   "metadata": {},
   "outputs": [],
   "source": [
    "q1_reviews.compute()"
   ]
  },
  {
   "cell_type": "code",
   "execution_count": null,
   "id": "16c0b864",
   "metadata": {},
   "outputs": [],
   "source": [
    "# q2\n",
    "q2 = combined.corr(method = 'pearson').compute()"
   ]
  },
  {
   "cell_type": "code",
   "execution_count": 7,
   "id": "8902adae",
   "metadata": {},
   "outputs": [],
   "source": [
    "# q3\n",
    "q3 = combined.price.describe().compute()[['mean', 'std', '50%', 'min', 'max']]"
   ]
  },
  {
   "cell_type": "code",
   "execution_count": 5,
   "id": "5cff3f8f",
   "metadata": {},
   "outputs": [],
   "source": [
    "# q4\n",
    "q4 = products_csv.categories.dropna().apply(lambda x: eval(x)[0][0], meta=('categories', 'object')).value_counts().compute()"
   ]
  },
  {
   "cell_type": "code",
   "execution_count": 6,
   "id": "cb952a1f",
   "metadata": {},
   "outputs": [
    {
     "data": {
      "text/plain": [
       "Books                                       2369910\n",
       "Clothing, Shoes & Jewelry                   1435868\n",
       "Sports & Outdoors                            529989\n",
       "Electronics                                  495476\n",
       "CDs & Vinyl                                  491713\n",
       "                                             ...   \n",
       "Publishers                                        2\n",
       "Celebrate your Birthday with Nickelodeon          2\n",
       "Gospel                                            2\n",
       "Collectible Coins                                 1\n",
       "#508510                                           1\n",
       "Name: categories, Length: 83, dtype: int64"
      ]
     },
     "execution_count": 6,
     "metadata": {},
     "output_type": "execute_result"
    }
   ],
   "source": [
    "q4"
   ]
  },
  {
   "cell_type": "code",
   "execution_count": null,
   "id": "6b44b8e1",
   "metadata": {},
   "outputs": [],
   "source": [
    "# q5\n",
    "user_reviews_csv.asin.isin(products_csv.asin.tolist())"
   ]
  },
  {
   "cell_type": "code",
   "execution_count": null,
   "id": "58733eca",
   "metadata": {},
   "outputs": [],
   "source": [
    "# data extract\n",
    "pool = sum(products_csv.related.apply(lambda x: sum(x.values(), [])), [])\n",
    "user_reviews_csv.asin.isin(pool)"
   ]
  }
 ],
 "metadata": {
  "kernelspec": {
   "display_name": "Python 3",
   "language": "python",
   "name": "python3"
  },
  "language_info": {
   "codemirror_mode": {
    "name": "ipython",
    "version": 3
   },
   "file_extension": ".py",
   "mimetype": "text/x-python",
   "name": "python",
   "nbconvert_exporter": "python",
   "pygments_lexer": "ipython3",
   "version": "3.6.9"
  }
 },
 "nbformat": 4,
 "nbformat_minor": 5
}
